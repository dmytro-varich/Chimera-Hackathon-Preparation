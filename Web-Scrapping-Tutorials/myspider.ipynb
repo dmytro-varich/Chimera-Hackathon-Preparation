{
  "nbformat": 4,
  "nbformat_minor": 0,
  "metadata": {
    "colab": {
      "provenance": []
    },
    "kernelspec": {
      "name": "python3",
      "display_name": "Python 3"
    },
    "language_info": {
      "name": "python"
    }
  },
  "cells": [
    {
      "cell_type": "code",
      "execution_count": null,
      "metadata": {
        "id": "e72XZryUpLP2"
      },
      "outputs": [],
      "source": [
        "! pip install scrapy\n",
        "! pip install scrapy-splash"
      ]
    },
    {
      "cell_type": "code",
      "source": [
        "%%writefile my_spider.py\n",
        "import scrapy\n",
        "from scrapy_splash import SplashRequest\n",
        "\n",
        "class MySpider(scrapy.Spider):\n",
        "  name = 'my_spider'\n",
        "  allowed_domains = ['eshop.telekom.sk']\n",
        "\n",
        "  #\n",
        "  base_url = 'https://eshop.telekom.sk/category/all-devices/list/product_listing'\n",
        "\n",
        "  #\n",
        "  brand_filter = 'Apple'\n",
        "  items_per_page = 12\n",
        "\n",
        "  def start_requests(self):\n",
        "    url = f\"{self.base_url}?traffId=RP1348&itemPerPage={self.items_per_page}&filter%5B%5D=filter.brand%5B%5D%3D{self.brand_filter}\"\n",
        "    yield SplashRequest(url, callback=self.parse, meta={'current_page': 1}, args={'wait': 10})\n",
        "\n",
        "  def parse(self, response):\n",
        "    current_page = response.meta['current_page']\n",
        "\n",
        "    #\n",
        "    product_link = response.css('a[href*=\"/category/all-devices/list/product_listing/product/\"]::attr(href)').getall()\n",
        "\n",
        "    #\n",
        "    for link in product_link:\n",
        "      full_link = response.urljoin(link)\n",
        "      yield SplashRequest(full_link, callback=self.parse_item, args={'wait': 10})\n",
        "\n",
        "    #\n",
        "    next_page_link = response.css('a.pagination-next::attr(href)').get()\n",
        "    if next_page_link:\n",
        "      next_page = current_page + 1\n",
        "      next_page_url = f\"{self.base_url}?currentPage={next_page}&traffId=RP1348&itemPerPage={self.items_per_page}&filter%5B%5D=filter.brand%5B%5D%3D{self.brand_filter}\"\n",
        "      yield SplashRequest(next_page_url, callback=self.parse, meta={'current_page': next_page}, args={'wait': 10})\n",
        "\n",
        "\n",
        "  def parse_item(self, response):\n",
        "    #\n",
        "    product_name = response.xpath('/html/body/div[1]/div[4]/main/section/section/div/section/article/div[1]/article/div/section[2]/article/section[1]/section[1]/h1').get()\n",
        "    availability = response.css('div.sc-feUZmu.cvbGwH.dt_typography.variant_small.badgeText::text').get()\n",
        "    # price = response.css('').get()\n",
        "    # description = response.css('').get()\n",
        "\n",
        "    yield {\n",
        "        'name': product_name,\n",
        "        'availability': availability,\n",
        "        # 'price': price,\n",
        "        # 'description': description,\n",
        "        'url': response.url\n",
        "    }"
      ],
      "metadata": {
        "colab": {
          "base_uri": "https://localhost:8080/"
        },
        "id": "3IHnblf5pfw_",
        "outputId": "dd86bdc6-1e12-4f15-a7ca-08e957dc4e7b"
      },
      "execution_count": null,
      "outputs": [
        {
          "output_type": "stream",
          "name": "stdout",
          "text": [
            "Overwriting my_spider.py\n"
          ]
        }
      ]
    },
    {
      "cell_type": "code",
      "source": [
        "!scrapy runspider my_spider.py -o products.json"
      ],
      "metadata": {
        "colab": {
          "base_uri": "https://localhost:8080/"
        },
        "collapsed": true,
        "id": "SQx5_LtNMlXk",
        "outputId": "fa67cd1c-ad98-4520-e684-c3ef57dd31bb"
      },
      "execution_count": null,
      "outputs": [
        {
          "output_type": "stream",
          "name": "stdout",
          "text": [
            "2024-11-17 14:21:02 [scrapy.utils.log] INFO: Scrapy 2.11.2 started (bot: scrapybot)\n",
            "2024-11-17 14:21:02 [scrapy.utils.log] INFO: Versions: lxml 5.3.0.0, libxml2 2.12.9, cssselect 1.2.0, parsel 1.9.1, w3lib 2.2.1, Twisted 24.10.0, Python 3.10.12 (main, Sep 11 2024, 15:47:36) [GCC 11.4.0], pyOpenSSL 24.2.1 (OpenSSL 3.3.2 3 Sep 2024), cryptography 43.0.3, Platform Linux-6.1.85+-x86_64-with-glibc2.35\n",
            "2024-11-17 14:21:02 [scrapy.addons] INFO: Enabled addons:\n",
            "[]\n",
            "/usr/local/lib/python3.10/dist-packages/scrapy/utils/request.py:254: ScrapyDeprecationWarning: '2.6' is a deprecated value for the 'REQUEST_FINGERPRINTER_IMPLEMENTATION' setting.\n",
            "\n",
            "It is also the default value. In other words, it is normal to get this warning if you have not defined a value for the 'REQUEST_FINGERPRINTER_IMPLEMENTATION' setting. This is so for backward compatibility reasons, but it will change in a future version of Scrapy.\n",
            "\n",
            "See the documentation of the 'REQUEST_FINGERPRINTER_IMPLEMENTATION' setting for information on how to handle this deprecation.\n",
            "  return cls(crawler)\n",
            "2024-11-17 14:21:02 [scrapy.utils.log] DEBUG: Using reactor: twisted.internet.epollreactor.EPollReactor\n",
            "2024-11-17 14:21:02 [scrapy.extensions.telnet] INFO: Telnet Password: 0154448766b1b5bf\n",
            "2024-11-17 14:21:03 [scrapy.middleware] INFO: Enabled extensions:\n",
            "['scrapy.extensions.corestats.CoreStats',\n",
            " 'scrapy.extensions.telnet.TelnetConsole',\n",
            " 'scrapy.extensions.memusage.MemoryUsage',\n",
            " 'scrapy.extensions.feedexport.FeedExporter',\n",
            " 'scrapy.extensions.logstats.LogStats']\n",
            "2024-11-17 14:21:03 [scrapy.crawler] INFO: Overridden settings:\n",
            "{'SPIDER_LOADER_WARN_ONLY': True}\n",
            "2024-11-17 14:21:03 [scrapy.middleware] INFO: Enabled downloader middlewares:\n",
            "['scrapy.downloadermiddlewares.offsite.OffsiteMiddleware',\n",
            " 'scrapy.downloadermiddlewares.httpauth.HttpAuthMiddleware',\n",
            " 'scrapy.downloadermiddlewares.downloadtimeout.DownloadTimeoutMiddleware',\n",
            " 'scrapy.downloadermiddlewares.defaultheaders.DefaultHeadersMiddleware',\n",
            " 'scrapy.downloadermiddlewares.useragent.UserAgentMiddleware',\n",
            " 'scrapy.downloadermiddlewares.retry.RetryMiddleware',\n",
            " 'scrapy.downloadermiddlewares.redirect.MetaRefreshMiddleware',\n",
            " 'scrapy.downloadermiddlewares.httpcompression.HttpCompressionMiddleware',\n",
            " 'scrapy.downloadermiddlewares.redirect.RedirectMiddleware',\n",
            " 'scrapy.downloadermiddlewares.cookies.CookiesMiddleware',\n",
            " 'scrapy.downloadermiddlewares.httpproxy.HttpProxyMiddleware',\n",
            " 'scrapy.downloadermiddlewares.stats.DownloaderStats']\n",
            "2024-11-17 14:21:03 [scrapy.middleware] INFO: Enabled spider middlewares:\n",
            "['scrapy.spidermiddlewares.httperror.HttpErrorMiddleware',\n",
            " 'scrapy.spidermiddlewares.referer.RefererMiddleware',\n",
            " 'scrapy.spidermiddlewares.urllength.UrlLengthMiddleware',\n",
            " 'scrapy.spidermiddlewares.depth.DepthMiddleware']\n",
            "2024-11-17 14:21:03 [scrapy.middleware] INFO: Enabled item pipelines:\n",
            "[]\n",
            "2024-11-17 14:21:03 [scrapy.core.engine] INFO: Spider opened\n",
            "2024-11-17 14:21:03 [scrapy.extensions.logstats] INFO: Crawled 0 pages (at 0 pages/min), scraped 0 items (at 0 items/min)\n",
            "2024-11-17 14:21:03 [scrapy.extensions.telnet] INFO: Telnet console listening on 127.0.0.1:6026\n",
            "2024-11-17 14:21:05 [scrapy.core.engine] DEBUG: Crawled (200) <GET https://eshop.telekom.sk/category/all-devices/list/product_listing?traffId=RP1348&itemPerPage=12&filter%5B%5D=filter.brand%5B%5D%3DApple> (referer: None)\n",
            "2024-11-17 14:21:07 [scrapy.core.engine] DEBUG: Crawled (200) <GET https://eshop.telekom.sk/category/all-devices/list/product_listing/product/iPhone-16-Pro?traffId=RP1348&itemPerPage=12&tariffId=RP1384&agreementId=agreement24&variantId=HW4210&categoryId=all-devices> (referer: https://eshop.telekom.sk/category/all-devices/list/product_listing?traffId=RP1348&itemPerPage=12&filter%5B%5D=filter.brand%5B%5D%3DApple)\n",
            "2024-11-17 14:21:07 [scrapy.core.scraper] DEBUG: Scraped from <200 https://eshop.telekom.sk/category/all-devices/list/product_listing/product/iPhone-16-Pro?traffId=RP1348&itemPerPage=12&tariffId=RP1384&agreementId=agreement24&variantId=HW4210&categoryId=all-devices>\n",
            "{'name': None, 'availability': None, 'url': 'https://eshop.telekom.sk/category/all-devices/list/product_listing/product/iPhone-16-Pro?traffId=RP1348&itemPerPage=12&tariffId=RP1384&agreementId=agreement24&variantId=HW4210&categoryId=all-devices'}\n",
            "2024-11-17 14:21:07 [scrapy.core.engine] DEBUG: Crawled (200) <GET https://eshop.telekom.sk/category/all-devices/list/product_listing/product/iPhone-16-Pro-Max?traffId=RP1348&itemPerPage=12&tariffId=RP1384&agreementId=agreement24&variantId=HW4214&categoryId=all-devices> (referer: https://eshop.telekom.sk/category/all-devices/list/product_listing?traffId=RP1348&itemPerPage=12&filter%5B%5D=filter.brand%5B%5D%3DApple)\n",
            "2024-11-17 14:21:07 [scrapy.core.scraper] DEBUG: Scraped from <200 https://eshop.telekom.sk/category/all-devices/list/product_listing/product/iPhone-16-Pro-Max?traffId=RP1348&itemPerPage=12&tariffId=RP1384&agreementId=agreement24&variantId=HW4214&categoryId=all-devices>\n",
            "{'name': None, 'availability': None, 'url': 'https://eshop.telekom.sk/category/all-devices/list/product_listing/product/iPhone-16-Pro-Max?traffId=RP1348&itemPerPage=12&tariffId=RP1384&agreementId=agreement24&variantId=HW4214&categoryId=all-devices'}\n",
            "2024-11-17 14:21:08 [scrapy.core.engine] DEBUG: Crawled (200) <GET https://eshop.telekom.sk/category/all-devices/list/product_listing/product/iPhone-16-Plus?traffId=RP1348&itemPerPage=12&tariffId=RP1384&agreementId=agreement24&variantId=HW4200&categoryId=all-devices> (referer: https://eshop.telekom.sk/category/all-devices/list/product_listing?traffId=RP1348&itemPerPage=12&filter%5B%5D=filter.brand%5B%5D%3DApple)\n",
            "2024-11-17 14:21:08 [scrapy.core.engine] DEBUG: Crawled (200) <GET https://eshop.telekom.sk/category/all-devices/list/product_listing/product/Apple-Watch-Ultra-2-GPS-Cellular-49mm-2024?traffId=RP1348&itemPerPage=12&tariffId=RP1384&agreementId=agreement24&variantId=HW4218&categoryId=all-devices> (referer: https://eshop.telekom.sk/category/all-devices/list/product_listing?traffId=RP1348&itemPerPage=12&filter%5B%5D=filter.brand%5B%5D%3DApple)\n",
            "2024-11-17 14:21:08 [scrapy.core.scraper] DEBUG: Scraped from <200 https://eshop.telekom.sk/category/all-devices/list/product_listing/product/iPhone-16-Plus?traffId=RP1348&itemPerPage=12&tariffId=RP1384&agreementId=agreement24&variantId=HW4200&categoryId=all-devices>\n",
            "{'name': None, 'availability': None, 'url': 'https://eshop.telekom.sk/category/all-devices/list/product_listing/product/iPhone-16-Plus?traffId=RP1348&itemPerPage=12&tariffId=RP1384&agreementId=agreement24&variantId=HW4200&categoryId=all-devices'}\n",
            "2024-11-17 14:21:08 [scrapy.core.scraper] DEBUG: Scraped from <200 https://eshop.telekom.sk/category/all-devices/list/product_listing/product/Apple-Watch-Ultra-2-GPS-Cellular-49mm-2024?traffId=RP1348&itemPerPage=12&tariffId=RP1384&agreementId=agreement24&variantId=HW4218&categoryId=all-devices>\n",
            "{'name': None, 'availability': None, 'url': 'https://eshop.telekom.sk/category/all-devices/list/product_listing/product/Apple-Watch-Ultra-2-GPS-Cellular-49mm-2024?traffId=RP1348&itemPerPage=12&tariffId=RP1384&agreementId=agreement24&variantId=HW4218&categoryId=all-devices'}\n",
            "2024-11-17 14:21:08 [scrapy.core.engine] DEBUG: Crawled (200) <GET https://eshop.telekom.sk/category/all-devices/list/product_listing/product/Apple-Watch-Series-10-GPS-Cellular-46mm?traffId=RP1348&itemPerPage=12&tariffId=RP1384&agreementId=agreement24&variantId=HW3931&categoryId=all-devices> (referer: https://eshop.telekom.sk/category/all-devices/list/product_listing?traffId=RP1348&itemPerPage=12&filter%5B%5D=filter.brand%5B%5D%3DApple)\n",
            "2024-11-17 14:21:08 [scrapy.core.scraper] DEBUG: Scraped from <200 https://eshop.telekom.sk/category/all-devices/list/product_listing/product/Apple-Watch-Series-10-GPS-Cellular-46mm?traffId=RP1348&itemPerPage=12&tariffId=RP1384&agreementId=agreement24&variantId=HW3931&categoryId=all-devices>\n",
            "{'name': None, 'availability': None, 'url': 'https://eshop.telekom.sk/category/all-devices/list/product_listing/product/Apple-Watch-Series-10-GPS-Cellular-46mm?traffId=RP1348&itemPerPage=12&tariffId=RP1384&agreementId=agreement24&variantId=HW3931&categoryId=all-devices'}\n",
            "2024-11-17 14:21:09 [scrapy.core.engine] DEBUG: Crawled (200) <GET https://eshop.telekom.sk/category/all-devices/list/product_listing/product/Macbook-Air-13-M3?traffId=RP1348&itemPerPage=12&tariffId=RP1384&agreementId=agreement24&variantId=HW4371&categoryId=all-devices> (referer: https://eshop.telekom.sk/category/all-devices/list/product_listing?traffId=RP1348&itemPerPage=12&filter%5B%5D=filter.brand%5B%5D%3DApple)\n",
            "2024-11-17 14:21:09 [scrapy.core.engine] DEBUG: Crawled (200) <GET https://eshop.telekom.sk/category/all-devices/list/product_listing/product/iPhone-13-Recyklovany?traffId=RP1348&itemPerPage=12&tariffId=RP1384&agreementId=agreement24&variantId=HW4154&categoryId=all-devices> (referer: https://eshop.telekom.sk/category/all-devices/list/product_listing?traffId=RP1348&itemPerPage=12&filter%5B%5D=filter.brand%5B%5D%3DApple)\n",
            "2024-11-17 14:21:09 [scrapy.core.engine] DEBUG: Crawled (200) <GET https://eshop.telekom.sk/category/all-devices/list/product_listing/product/iPad-Pro-13-Wi-Fi-Cellular?traffId=RP1348&itemPerPage=12&tariffId=RP1384&agreementId=agreement24&variantId=HW4147&categoryId=all-devices> (referer: https://eshop.telekom.sk/category/all-devices/list/product_listing?traffId=RP1348&itemPerPage=12&filter%5B%5D=filter.brand%5B%5D%3DApple)\n",
            "2024-11-17 14:21:09 [scrapy.core.scraper] DEBUG: Scraped from <200 https://eshop.telekom.sk/category/all-devices/list/product_listing/product/Macbook-Air-13-M3?traffId=RP1348&itemPerPage=12&tariffId=RP1384&agreementId=agreement24&variantId=HW4371&categoryId=all-devices>\n",
            "{'name': None, 'availability': None, 'url': 'https://eshop.telekom.sk/category/all-devices/list/product_listing/product/Macbook-Air-13-M3?traffId=RP1348&itemPerPage=12&tariffId=RP1384&agreementId=agreement24&variantId=HW4371&categoryId=all-devices'}\n",
            "2024-11-17 14:21:09 [scrapy.core.scraper] DEBUG: Scraped from <200 https://eshop.telekom.sk/category/all-devices/list/product_listing/product/iPhone-13-Recyklovany?traffId=RP1348&itemPerPage=12&tariffId=RP1384&agreementId=agreement24&variantId=HW4154&categoryId=all-devices>\n",
            "{'name': None, 'availability': None, 'url': 'https://eshop.telekom.sk/category/all-devices/list/product_listing/product/iPhone-13-Recyklovany?traffId=RP1348&itemPerPage=12&tariffId=RP1384&agreementId=agreement24&variantId=HW4154&categoryId=all-devices'}\n",
            "2024-11-17 14:21:09 [scrapy.core.engine] DEBUG: Crawled (200) <GET https://eshop.telekom.sk/category/all-devices/list/product_listing/product/iPhone-15?traffId=RP1348&itemPerPage=12&tariffId=RP1384&agreementId=agreement24&variantId=HW3871&categoryId=all-devices> (referer: https://eshop.telekom.sk/category/all-devices/list/product_listing?traffId=RP1348&itemPerPage=12&filter%5B%5D=filter.brand%5B%5D%3DApple)\n",
            "2024-11-17 14:21:09 [scrapy.core.engine] DEBUG: Crawled (200) <GET https://eshop.telekom.sk/category/all-devices/list/product_listing/product/iPhone-16?traffId=RP1348&itemPerPage=12&tariffId=RP1384&agreementId=agreement24&variantId=HW4207&categoryId=all-devices> (referer: https://eshop.telekom.sk/category/all-devices/list/product_listing?traffId=RP1348&itemPerPage=12&filter%5B%5D=filter.brand%5B%5D%3DApple)\n",
            "2024-11-17 14:21:09 [scrapy.core.scraper] DEBUG: Scraped from <200 https://eshop.telekom.sk/category/all-devices/list/product_listing/product/iPad-Pro-13-Wi-Fi-Cellular?traffId=RP1348&itemPerPage=12&tariffId=RP1384&agreementId=agreement24&variantId=HW4147&categoryId=all-devices>\n",
            "{'name': None, 'availability': None, 'url': 'https://eshop.telekom.sk/category/all-devices/list/product_listing/product/iPad-Pro-13-Wi-Fi-Cellular?traffId=RP1348&itemPerPage=12&tariffId=RP1384&agreementId=agreement24&variantId=HW4147&categoryId=all-devices'}\n",
            "2024-11-17 14:21:09 [scrapy.core.scraper] DEBUG: Scraped from <200 https://eshop.telekom.sk/category/all-devices/list/product_listing/product/iPhone-15?traffId=RP1348&itemPerPage=12&tariffId=RP1384&agreementId=agreement24&variantId=HW3871&categoryId=all-devices>\n",
            "{'name': None, 'availability': None, 'url': 'https://eshop.telekom.sk/category/all-devices/list/product_listing/product/iPhone-15?traffId=RP1348&itemPerPage=12&tariffId=RP1384&agreementId=agreement24&variantId=HW3871&categoryId=all-devices'}\n",
            "2024-11-17 14:21:09 [scrapy.core.scraper] DEBUG: Scraped from <200 https://eshop.telekom.sk/category/all-devices/list/product_listing/product/iPhone-16?traffId=RP1348&itemPerPage=12&tariffId=RP1384&agreementId=agreement24&variantId=HW4207&categoryId=all-devices>\n",
            "{'name': None, 'availability': None, 'url': 'https://eshop.telekom.sk/category/all-devices/list/product_listing/product/iPhone-16?traffId=RP1348&itemPerPage=12&tariffId=RP1384&agreementId=agreement24&variantId=HW4207&categoryId=all-devices'}\n",
            "2024-11-17 14:21:09 [scrapy.core.engine] INFO: Closing spider (finished)\n",
            "2024-11-17 14:21:09 [scrapy.extensions.feedexport] INFO: Stored json feed (10 items) in: products.json\n",
            "2024-11-17 14:21:09 [scrapy.statscollectors] INFO: Dumping Scrapy stats:\n",
            "{'downloader/request_bytes': 7625,\n",
            " 'downloader/request_count': 11,\n",
            " 'downloader/request_method_count/GET': 11,\n",
            " 'downloader/response_bytes': 2311413,\n",
            " 'downloader/response_count': 11,\n",
            " 'downloader/response_status_count/200': 11,\n",
            " 'elapsed_time_seconds': 6.119221,\n",
            " 'feedexport/success_count/FileFeedStorage': 1,\n",
            " 'finish_reason': 'finished',\n",
            " 'finish_time': datetime.datetime(2024, 11, 17, 14, 21, 9, 375136, tzinfo=datetime.timezone.utc),\n",
            " 'httpcompression/response_bytes': 11230110,\n",
            " 'httpcompression/response_count': 11,\n",
            " 'item_scraped_count': 10,\n",
            " 'log_count/DEBUG': 22,\n",
            " 'log_count/INFO': 11,\n",
            " 'memusage/max': 205787136,\n",
            " 'memusage/startup': 205787136,\n",
            " 'request_depth_max': 1,\n",
            " 'response_received_count': 11,\n",
            " 'scheduler/dequeued': 11,\n",
            " 'scheduler/dequeued/memory': 11,\n",
            " 'scheduler/enqueued': 11,\n",
            " 'scheduler/enqueued/memory': 11,\n",
            " 'start_time': datetime.datetime(2024, 11, 17, 14, 21, 3, 255915, tzinfo=datetime.timezone.utc)}\n",
            "2024-11-17 14:21:09 [scrapy.core.engine] INFO: Spider closed (finished)\n"
          ]
        }
      ]
    },
    {
      "cell_type": "code",
      "source": [
        "from google.colab import files\n",
        "files.download('products.json')"
      ],
      "metadata": {
        "colab": {
          "base_uri": "https://localhost:8080/",
          "height": 17
        },
        "id": "y8QOlQhZMyuD",
        "outputId": "410b69de-b2f6-4006-fba6-428d43fcd713"
      },
      "execution_count": null,
      "outputs": [
        {
          "output_type": "display_data",
          "data": {
            "text/plain": [
              "<IPython.core.display.Javascript object>"
            ],
            "application/javascript": [
              "\n",
              "    async function download(id, filename, size) {\n",
              "      if (!google.colab.kernel.accessAllowed) {\n",
              "        return;\n",
              "      }\n",
              "      const div = document.createElement('div');\n",
              "      const label = document.createElement('label');\n",
              "      label.textContent = `Downloading \"${filename}\": `;\n",
              "      div.appendChild(label);\n",
              "      const progress = document.createElement('progress');\n",
              "      progress.max = size;\n",
              "      div.appendChild(progress);\n",
              "      document.body.appendChild(div);\n",
              "\n",
              "      const buffers = [];\n",
              "      let downloaded = 0;\n",
              "\n",
              "      const channel = await google.colab.kernel.comms.open(id);\n",
              "      // Send a message to notify the kernel that we're ready.\n",
              "      channel.send({})\n",
              "\n",
              "      for await (const message of channel.messages) {\n",
              "        // Send a message to notify the kernel that we're ready.\n",
              "        channel.send({})\n",
              "        if (message.buffers) {\n",
              "          for (const buffer of message.buffers) {\n",
              "            buffers.push(buffer);\n",
              "            downloaded += buffer.byteLength;\n",
              "            progress.value = downloaded;\n",
              "          }\n",
              "        }\n",
              "      }\n",
              "      const blob = new Blob(buffers, {type: 'application/binary'});\n",
              "      const a = document.createElement('a');\n",
              "      a.href = window.URL.createObjectURL(blob);\n",
              "      a.download = filename;\n",
              "      div.appendChild(a);\n",
              "      a.click();\n",
              "      div.remove();\n",
              "    }\n",
              "  "
            ]
          },
          "metadata": {}
        },
        {
          "output_type": "display_data",
          "data": {
            "text/plain": [
              "<IPython.core.display.Javascript object>"
            ],
            "application/javascript": [
              "download(\"download_07996ee4-e67b-4bd2-8ea5-61013d57b48e\", \"products.json\", 4)"
            ]
          },
          "metadata": {}
        }
      ]
    }
  ]
}
